{
 "cells": [
  {
   "cell_type": "markdown",
   "metadata": {},
   "source": [
    "# Multi-Threads"
   ]
  },
  {
   "cell_type": "code",
   "execution_count": 1,
   "metadata": {},
   "outputs": [
    {
     "name": "stdout",
     "output_type": "stream",
     "text": [
      "[2.0, 2.0, 2.0, 3.0, 3.0, 3.0, 4.0, 4.0, 1.0, 1.0]"
     ]
    }
   ],
   "source": [
    "using Base.Threads\n",
    "\n",
    "a = zeros(10)\n",
    "Threads.@threads for i = 1:10\n",
    "    a[i] = Threads.threadid()\n",
    "end\n",
    "print(a)"
   ]
  },
  {
   "cell_type": "code",
   "execution_count": 4,
   "metadata": {},
   "outputs": [],
   "source": [
    "using Base.Threads\n",
    "\n",
    "function parallel_squares(x)\n",
    "    @threads for i in 1:length(x)\n",
    "        x[i] = x[i]^2\n",
    "    end\n",
    "    return x\n",
    "end\n",
    "\n",
    "# Example usage\n",
    "x=-100000:1:100000\n",
    "data = Array(x)\n",
    "result = parallel_squares(data)\n",
    "println(result)"
   ]
  },
  {
   "cell_type": "code",
   "execution_count": 5,
   "metadata": {},
   "outputs": [],
   "source": [
    "println(result)"
   ]
  },
  {
   "cell_type": "markdown",
   "metadata": {},
   "source": [
    "Looking for two tasks\n",
    "1. Sum of numbers\n",
    "2. "
   ]
  },
  {
   "cell_type": "code",
   "execution_count": 2,
   "metadata": {},
   "outputs": [
    {
     "name": "stdout",
     "output_type": "stream",
     "text": [
      "Results of total Sum: 36\n"
     ]
    }
   ],
   "source": [
    "using Base.Threads\n",
    "\n",
    "# Функция, которая будет выполняться параллельно\n",
    "function thread_sum(arr, start_index, end_index)\n",
    "    local_sum = zero(eltype(arr)) # Инициализируем локальную сумму нулем\n",
    "    for i = start_index:end_index\n",
    "        local_sum += arr[i]\n",
    "    end \n",
    "    return local_sum\n",
    "end\n",
    "\n",
    "# Функция, которая будет суммировать результаты из разных потоков\n",
    "function parallel_sum(arr, num_threads)\n",
    "    len = length(arr)\n",
    "    chunk_size = div(len, num_threads) # Размер каждого \"куска\" данных для потока\n",
    "\n",
    "    \n",
    "    results = zeros(eltype(arr), num_threads)# Создаем массив для хранения результатов каждого потока\n",
    "\n",
    "    # Запускаем потоки\n",
    "    @threads for i = 1:num_threads\n",
    "        start_index = (i - 1) * chunk_size + 1\n",
    "        end_index = min(i * chunk_size, len)\n",
    "        results[i] = thread_sum(arr, start_index, end_index)\n",
    "    end\n",
    "\n",
    "    \n",
    "    total_sum = sum(results) # Суммируем результаты из всех потоков\n",
    "    return total_sum\n",
    "end\n",
    "\n",
    "\n",
    "arr = [1, 2, 3, 4, 5, 6, 7, 8, 9, 10] # Тестируем нашу функцию суммирования в несколько потоков\n",
    "N_threads = 4\n",
    "Sum = parallel_sum(arr, N_threads)\n",
    "println(\"Results of total Sum: \", Sum)\n"
   ]
  },
  {
   "cell_type": "code",
   "execution_count": 9,
   "metadata": {},
   "outputs": [
    {
     "name": "stdout",
     "output_type": "stream",
     "text": [
      "Sqrt od array [1, 4, 9, 16, 25, 36, 49, 64, 9, 10]\n"
     ]
    }
   ],
   "source": [
    "using Base.Threads\n",
    "\n",
    "# Функция, которая будет выполняться параллельно\n",
    "function square_numbers(arr, start_index, end_index)\n",
    "    for i = start_index:end_index\n",
    "        arr[i] = arr[i] * arr[i]\n",
    "    end\n",
    "end\n",
    "\n",
    "function parallel_square(arr, num_threads)\n",
    "    len = length(arr)\n",
    "    chunk_size = div(len, num_threads) # Размер каждого \"куска\" данных для потока\n",
    "\n",
    "    # Запускаем потоки\n",
    "    @threads for i = 1:num_threads\n",
    "        start_index = (i - 1) * chunk_size + 1\n",
    "        end_index = min(i * chunk_size, len)\n",
    "        square_numbers(arr, start_index, end_index)\n",
    "    end\n",
    "end\n",
    "\n",
    "# Тестируем нашу функцию на массиве чисел\n",
    "numbers = [1, 2, 3, 4, 5, 6, 7, 8, 9, 10]\n",
    "num_threads = 4\n",
    "\n",
    "\n",
    "# Вычисляем квадраты чисел параллельно\n",
    "parallel_square(numbers, num_threads)\n",
    "\n",
    "println(\"Sqrt od array \", numbers)\n"
   ]
  }
 ],
 "metadata": {
  "kernelspec": {
   "display_name": "Julia 1.9.1",
   "language": "julia",
   "name": "julia-1.9"
  },
  "language_info": {
   "file_extension": ".jl",
   "mimetype": "application/julia",
   "name": "julia",
   "version": "1.9.1"
  },
  "orig_nbformat": 4
 },
 "nbformat": 4,
 "nbformat_minor": 2
}
