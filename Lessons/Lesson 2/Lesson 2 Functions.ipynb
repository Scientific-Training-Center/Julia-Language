{
 "cells": [
  {
   "attachments": {},
   "cell_type": "markdown",
   "metadata": {},
   "source": [
    "# Functions\n",
    "\n",
    "function function_name(args)\n",
    "   expression\n",
    "   expression\n",
    "   expression\n",
    "   ...\n",
    "   expression\n",
    "end"
   ]
  },
  {
   "cell_type": "code",
   "execution_count": null,
   "metadata": {},
   "outputs": [],
   "source": [
    "∑(x,y)=x+y\n",
    "\n",
    "∑(2,3)"
   ]
  },
  {
   "cell_type": "code",
   "execution_count": null,
   "metadata": {},
   "outputs": [],
   "source": [
    "f(x,y) = x + y # Defining Function\n",
    "\n",
    "f(3,4)"
   ]
  },
  {
   "cell_type": "code",
   "execution_count": null,
   "metadata": {},
   "outputs": [],
   "source": [
    "function f(x,y)\n",
    "    x + y\n",
    "end\n",
    "\n",
    "f(1,1)"
   ]
  },
  {
   "cell_type": "code",
   "execution_count": null,
   "metadata": {},
   "outputs": [],
   "source": [
    "function MyFunction(a,b)\n",
    "    a+b, a*b\n",
    "end\n",
    "\n",
    "a=MyFunction(1,2)\n",
    "typeof(a)"
   ]
  },
  {
   "attachments": {},
   "cell_type": "markdown",
   "metadata": {},
   "source": [
    "## Anonymous Functions"
   ]
  },
  {
   "cell_type": "code",
   "execution_count": null,
   "metadata": {},
   "outputs": [],
   "source": [
    "ff = x -> x^3 + 2x - 2\n",
    "\n",
    "ff(1)"
   ]
  },
  {
   "cell_type": "code",
   "execution_count": null,
   "metadata": {},
   "outputs": [],
   "source": [
    "map(x -> x^2 + 2x - 1, [4, 1, 2, 3])"
   ]
  },
  {
   "attachments": {},
   "cell_type": "markdown",
   "metadata": {},
   "source": [
    "## Evaluation Scope of Default Values"
   ]
  },
  {
   "cell_type": "code",
   "execution_count": 1,
   "metadata": {},
   "outputs": [
    {
     "name": "stdout",
     "output_type": "stream",
     "text": [
      "x = 1, y = 1\n",
      "x = 2, y = 5\n"
     ]
    }
   ],
   "source": [
    "function my_function(x, y = x^2)\n",
    "    println(\"x = $x, y = $y\")\n",
    "end\n",
    "\n",
    "my_function(1)  \n",
    "\n",
    "my_function(2, 5) "
   ]
  },
  {
   "attachments": {},
   "cell_type": "markdown",
   "metadata": {},
   "source": [
    "## Global Variable "
   ]
  },
  {
   "cell_type": "code",
   "execution_count": 5,
   "metadata": {},
   "outputs": [
    {
     "name": "stdout",
     "output_type": "stream",
     "text": [
      "Global Variable before calling the function  : 10\n",
      "Global Variable in function: 20\n",
      "Global Variable after calling the function : 10\n"
     ]
    }
   ],
   "source": [
    "global_var = 10  \n",
    "\n",
    "function my_function()\n",
    "    global_var = 20  \n",
    "    println(\"Global Variable in function: $global_var\")\n",
    "end\n",
    "\n",
    "println(\"Global Variable before calling the function  : $global_var\")\n",
    "my_function()\n",
    "println(\"Global Variable after calling the function : $global_var\")"
   ]
  },
  {
   "attachments": {},
   "cell_type": "markdown",
   "metadata": {},
   "source": [
    "# Tuple"
   ]
  },
  {
   "cell_type": "code",
   "execution_count": 2,
   "metadata": {},
   "outputs": [
    {
     "name": "stdout",
     "output_type": "stream",
     "text": [
      "x = 4, y = 5, z = 1; a = 10, b = 200, c = 300\n",
      "nothing"
     ]
    }
   ],
   "source": [
    "function TFunc(x, y, z; a=10, b=20, c=30)\n",
    "    println(\"x = $x, y = $y, z = $z; a = $a, b = $b, c = $c\")\n",
    "end\n",
    "opt = (b = 200, c = 300)\n",
    "#print(TFunc(4, 3, 7; ))\n",
    "print(TFunc(4, 5, 1; b = 1000,opt... ))\n",
    "\n"
   ]
  },
  {
   "attachments": {},
   "cell_type": "markdown",
   "metadata": {},
   "source": [
    "## Strings"
   ]
  },
  {
   "cell_type": "code",
   "execution_count": 10,
   "metadata": {},
   "outputs": [
    {
     "data": {
      "text/plain": [
       "'e': ASCII/Unicode U+0065 (category Ll: Letter, lowercase)"
      ]
     },
     "metadata": {},
     "output_type": "display_data"
    }
   ],
   "source": [
    "str = \"This is Julia Language.\"\n",
    "\n",
    "str[end-1]"
   ]
  },
  {
   "cell_type": "code",
   "execution_count": 11,
   "metadata": {},
   "outputs": [
    {
     "data": {
      "text/plain": [
       "\"his is J\""
      ]
     },
     "metadata": {},
     "output_type": "display_data"
    }
   ],
   "source": [
    "str[2:9]"
   ]
  },
  {
   "cell_type": "code",
   "execution_count": 12,
   "metadata": {},
   "outputs": [
    {
     "data": {
      "text/plain": [
       "\"Hello , This is Julia Language.\""
      ]
     },
     "metadata": {},
     "output_type": "display_data"
    }
   ],
   "source": [
    "a=\"Hello \"\n",
    "string(a, \", \", str) "
   ]
  },
  {
   "cell_type": "code",
   "execution_count": 13,
   "metadata": {},
   "outputs": [
    {
     "ename": "MethodError",
     "evalue": "MethodError: no method matching +(::String, ::String)\nString concatenation is performed with * (See also: https://docs.julialang.org/en/v1/manual/strings/#man-concatenation).\n\nClosest candidates are:\n  +(::Any, ::Any, !Matched::Any, !Matched::Any...)\n   @ Base operators.jl:578\n",
     "output_type": "error",
     "traceback": [
      "MethodError: no method matching +(::String, ::String)\n",
      "String concatenation is performed with * (See also: https://docs.julialang.org/en/v1/manual/strings/#man-concatenation).\n",
      "\n",
      "Closest candidates are:\n",
      "  +(::Any, ::Any, !Matched::Any, !Matched::Any...)\n",
      "   @ Base operators.jl:578\n",
      "\n",
      "\n",
      "Stacktrace:\n",
      " [1] top-level scope\n",
      "   @ c:\\Users\\EmilAGazazyan\\Repository\\Scientific Training Center\\Julia-Language\\Lessons\\Lesson 2 Functions.ipynb:1"
     ]
    }
   ],
   "source": [
    "res=a+str\n",
    "\n",
    "print(res)"
   ]
  }
 ],
 "metadata": {
  "kernelspec": {
   "display_name": "Julia 1.9.0",
   "language": "julia",
   "name": "julia-1.9"
  },
  "language_info": {
   "file_extension": ".jl",
   "mimetype": "application/julia",
   "name": "julia",
   "version": "1.9.0"
  },
  "orig_nbformat": 4
 },
 "nbformat": 4,
 "nbformat_minor": 2
}
