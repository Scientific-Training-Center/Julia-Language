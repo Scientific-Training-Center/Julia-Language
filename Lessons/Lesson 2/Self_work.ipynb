{
 "cells": [
  {
   "attachments": {},
   "cell_type": "markdown",
   "metadata": {},
   "source": [
    "# Independent work\n"
   ]
  },
  {
   "attachments": {},
   "cell_type": "markdown",
   "metadata": {},
   "source": [
    "1. Задача: Найдите сумму всех простых чисел от 1 до 100."
   ]
  },
  {
   "cell_type": "code",
   "execution_count": 1,
   "metadata": {},
   "outputs": [
    {
     "name": "stdout",
     "output_type": "stream",
     "text": [
      "Сумма простых чисел от 1 до 100: 1060\n"
     ]
    }
   ],
   "source": [
    "function myFunc(n)\n",
    "    if n < 2\n",
    "        return false\n",
    "    end\n",
    "    \n",
    "    for i in 2:isqrt(n)\n",
    "        if n % i == 0\n",
    "            return false\n",
    "        end\n",
    "    end\n",
    "    \n",
    "    return true\n",
    "end\n",
    "\n",
    "sum = 0\n",
    "for i in 1:100\n",
    "    if myFunc(i)\n",
    "        sum += i\n",
    "    end\n",
    "end\n",
    "\n",
    "println(\"Сумма простых чисел от 1 до 100: \", sum)\n"
   ]
  },
  {
   "attachments": {},
   "cell_type": "markdown",
   "metadata": {},
   "source": [
    "2. Задача:  Найти сумму и среднее значение чисел."
   ]
  },
  {
   "cell_type": "code",
   "execution_count": 8,
   "metadata": {},
   "outputs": [
    {
     "name": "stdout",
     "output_type": "stream",
     "text": [
      "Сумма чисел: 41\n"
     ]
    },
    {
     "name": "stdout",
     "output_type": "stream",
     "text": [
      "Среднее значение: 8.2\n"
     ]
    }
   ],
   "source": [
    "numbers = [10, 5, 8, 12, 6]  # Пример списка чисел\n",
    "\n",
    "# Нахождение суммы чисел\n",
    "sum = 0\n",
    "for num in numbers\n",
    "    sum += num\n",
    "end\n",
    "\n",
    "# Нахождение среднего значения\n",
    "average = sum / length(numbers)\n",
    "\n",
    "println(\"Сумма чисел: \", sum)\n",
    "println(\"Среднее значение: \", average)\n"
   ]
  }
 ],
 "metadata": {
  "kernelspec": {
   "display_name": "Julia 1.9.0",
   "language": "julia",
   "name": "julia-1.9"
  },
  "language_info": {
   "file_extension": ".jl",
   "mimetype": "application/julia",
   "name": "julia",
   "version": "1.9.0"
  },
  "orig_nbformat": 4
 },
 "nbformat": 4,
 "nbformat_minor": 2
}
