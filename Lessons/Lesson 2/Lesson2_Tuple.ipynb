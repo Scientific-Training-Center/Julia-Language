{
 "cells": [
  {
   "attachments": {},
   "cell_type": "markdown",
   "metadata": {},
   "source": [
    "# Tuples\n",
    "\n",
    "Julia имеет встроенную структуру данных, называемую кортеж (tuple), которая тесно связана с аргументами функций и возвращаемыми значениями. Кортеж - это контейнер фиксированной длины, который может содержать любые значения, но не может быть изменен (он является неизменяемым). Кортежи создаются с помощью запятых и круглых скобок, и к ним можно обращаться по индексу:"
   ]
  },
  {
   "cell_type": "code",
   "execution_count": 3,
   "metadata": {},
   "outputs": [
    {
     "name": "stdout",
     "output_type": "stream",
     "text": [
      "1\n",
      "(3, 4)"
     ]
    }
   ],
   "source": [
    "a = (1,2,3,4)\n",
    "a[1]\n",
    "#a[1]=2\n",
    "print(a[1],\"\\n\")\n",
    "print(a[3:end])\n"
   ]
  },
  {
   "cell_type": "code",
   "execution_count": 1,
   "metadata": {},
   "outputs": [
    {
     "name": "stdout",
     "output_type": "stream",
     "text": [
      "(a = 2, b = 3)\n",
      "2"
     ]
    }
   ],
   "source": [
    "x = (a=2, b=1+2)\n",
    "print(x)\n",
    "print(\"\\n\")\n",
    "\n",
    "print(x.a)"
   ]
  },
  {
   "cell_type": "code",
   "execution_count": 2,
   "metadata": {},
   "outputs": [
    {
     "name": "stdout",
     "output_type": "stream",
     "text": [
      "2"
     ]
    },
    {
     "name": "stdout",
     "output_type": "stream",
     "text": [
      "1"
     ]
    },
    {
     "ename": "UndefVarError",
     "evalue": "UndefVarError: `c` not defined",
     "output_type": "error",
     "traceback": [
      "UndefVarError: `c` not defined\n",
      "\n",
      "Stacktrace:\n",
      " [1] top-level scope\n",
      "   @ c:\\Users\\EmilAGazazyan\\Repository\\Scientific Training Center\\Julia-Language\\Lessons\\Lesson2_Tuple.ipynb:5"
     ]
    }
   ],
   "source": [
    "\n",
    "(; b, a) = (a=1, b=2, c=6)\n",
    "print(b)\n",
    "print(a)\n",
    "print(c)\n",
    "\n",
    "#Расшифровка выражения:\n",
    "#a=1 присваивает переменной a значение 1.\n",
    "#b=2 присваивает переменной b значение 2.\n",
    "#c Вы получите ошибку UndefVarError: c not defined, потому что переменная c не определена и не имеет значения."
   ]
  },
  {
   "cell_type": "code",
   "execution_count": 3,
   "metadata": {},
   "outputs": [
    {
     "name": "stdout",
     "output_type": "stream",
     "text": [
      "216"
     ]
    }
   ],
   "source": [
    "(; b, a,c) = (a=1, b=2, c=6)\n",
    "print(b)\n",
    "print(a)\n",
    "print(c)"
   ]
  },
  {
   "attachments": {},
   "cell_type": "markdown",
   "metadata": {},
   "source": [
    "##  Dictionaries and Sets"
   ]
  },
  {
   "cell_type": "code",
   "execution_count": 1,
   "metadata": {},
   "outputs": [
    {
     "name": "stdout",
     "output_type": "stream",
     "text": [
      "Alice: 92"
     ]
    },
    {
     "name": "stdout",
     "output_type": "stream",
     "text": [
      "\n",
      "David: 78"
     ]
    },
    {
     "name": "stdout",
     "output_type": "stream",
     "text": [
      "\n",
      "Bob: 90\n"
     ]
    }
   ],
   "source": [
    "# Создание словаря\n",
    "grades = Dict(\"Alice\" => 92, \"Bob\" => 85, \"Charlie\" => 88)\n",
    "\n",
    "# Доступ к значению по ключу\n",
    "alice_grade = grades[\"Alice\"]\n",
    "\n",
    "# Изменение значения\n",
    "grades[\"Bob\"] = 90\n",
    "\n",
    "# Добавление новой пары ключ-значение\n",
    "grades[\"David\"] = 78\n",
    "\n",
    "# Удаление элемента по ключу\n",
    "delete!(grades, \"Charlie\")\n",
    "\n",
    "# Проверка наличия ключа\n",
    "haskey(grades, \"Bob\")\n",
    "\n",
    "# Итерация по парам ключ-значение\n",
    "for (name, grade) in grades\n",
    "    println(\"$name: $grade\")\n",
    "end\n"
   ]
  },
  {
   "attachments": {},
   "cell_type": "markdown",
   "metadata": {},
   "source": [
    "# Set \n",
    "\n",
    "Множество (Set) в Julia - это неупорядоченная коллекция уникальных элементов. Множества полезны, когда вы хотите гарантировать, что каждый элемент появляется только один раз в коллекции."
   ]
  },
  {
   "cell_type": "code",
   "execution_count": 2,
   "metadata": {},
   "outputs": [
    {
     "data": {
      "text/plain": [
       "Set{String} with 3 elements:\n",
       "  \"orange\"\n",
       "  \"banana\"\n",
       "  \"apple\""
      ]
     },
     "metadata": {},
     "output_type": "display_data"
    }
   ],
   "source": [
    "# Using Set constructor\n",
    "colors = Set([\"red\", \"blue\", \"green\"])\n",
    "\n",
    "# Using curly braces\n",
    "fruits = Set([\"apple\", \"banana\", \"orange\"])\n",
    "\n",
    "push!(colors, \"yellow\")  # Adding a new element\n",
    "pop!(fruits, \"apple\")    # Removing the element \"apple\"\n",
    "\n",
    "\n"
   ]
  },
  {
   "cell_type": "code",
   "execution_count": 5,
   "metadata": {},
   "outputs": [
    {
     "name": "stdout",
     "output_type": "stream",
     "text": [
      "Set([2, 3, 1])Set([5, 4, 2, 3, 1])Set([3])Set([5, 4])"
     ]
    }
   ],
   "source": [
    "set1 = Set([1, 2, 3])\n",
    "set2 = Set([3, 4, 5])\n",
    "\n",
    "push!(set1, 2)  # added element\n",
    "print(set1)\n",
    "union_set = union(set1, set2)          # Set containing elements from both \n",
    "print(union_set)\n",
    "intersection_set = intersect(set2, set1)  # Set containing common elements\n",
    "print(intersection_set)\n",
    "diff_set = setdiff(set2, set1)         # Set containing elements in set1 but not in set2\n",
    "print(diff_set)"
   ]
  }
 ],
 "metadata": {
  "kernelspec": {
   "display_name": "Julia 1.9.0",
   "language": "julia",
   "name": "julia-1.9"
  },
  "language_info": {
   "file_extension": ".jl",
   "mimetype": "application/julia",
   "name": "julia",
   "version": "1.9.0"
  },
  "orig_nbformat": 4
 },
 "nbformat": 4,
 "nbformat_minor": 2
}
