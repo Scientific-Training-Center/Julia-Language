{
 "cells": [
  {
   "attachments": {},
   "cell_type": "markdown",
   "metadata": {},
   "source": [
    "# Symbolics \n",
    "\n",
    "## Installation\n",
    "using Pkg\n",
    "Pkg.add(\"Symbolics\")"
   ]
  },
  {
   "cell_type": "code",
   "execution_count": 8,
   "metadata": {},
   "outputs": [
    {
     "data": {
      "text/latex": [
       "$$ \\begin{equation}\n",
       " - \\frac{3}{2} y\n",
       "\\end{equation}\n",
       " $$"
      ],
      "text/plain": [
       "(-3//2)*y"
      ]
     },
     "metadata": {},
     "output_type": "display_data"
    }
   ],
   "source": [
    "using Symbolics\n",
    "\n",
    "@variables x y \n",
    "\n",
    "f = 2x+3y\n",
    "Symbolics.solve_for(f ~ 0, x)\n"
   ]
  },
  {
   "cell_type": "code",
   "execution_count": 14,
   "metadata": {},
   "outputs": [
    {
     "data": {
      "text/latex": [
       "$$ \\begin{equation}\n",
       " - \\frac{3}{2} y\n",
       "\\end{equation}\n",
       " $$"
      ],
      "text/plain": [
       "(-3//2)*y"
      ]
     },
     "metadata": {},
     "output_type": "display_data"
    }
   ],
   "source": [
    "using Symbolics\n",
    "\n",
    "@variables x y \n",
    "\n",
    "f = 2x+3y\n",
    "Symbolics.solve_for(f ~ 0, x)"
   ]
  },
  {
   "cell_type": "code",
   "execution_count": 11,
   "metadata": {},
   "outputs": [
    {
     "data": {
      "text/plain": [
       "2-element Vector{Float64}:\n",
       "  1.0\n",
       " -1.0"
      ]
     },
     "metadata": {},
     "output_type": "display_data"
    }
   ],
   "source": [
    "@variables x y\n",
    "\n",
    "Symbolics.solve_for([x + y ~ 0, x - y ~ 2], [x, y])"
   ]
  },
  {
   "cell_type": "code",
   "execution_count": 3,
   "metadata": {},
   "outputs": [
    {
     "data": {
      "text/latex": [
       "$$ \\begin{equation}\n",
       "\\frac{\\mathrm{d}}{\\mathrm{d}x} \\left( x^{3} + 3 x^{2} \\right)\n",
       "\\end{equation}\n",
       " $$"
      ],
      "text/plain": [
       "Differential(x)(x^3 + 3(x^2))"
      ]
     },
     "metadata": {},
     "output_type": "display_data"
    }
   ],
   "source": [
    "using Symbolics\n",
    "\n",
    "@variables x\n",
    "\n",
    "D = Differential(x)\n",
    "\n",
    "F = 3x^2+x^3\n",
    "\n",
    "D(F)"
   ]
  },
  {
   "cell_type": "code",
   "execution_count": 4,
   "metadata": {},
   "outputs": [
    {
     "data": {
      "text/latex": [
       "$$ \\begin{equation}\n",
       "\\left[\n",
       "\\begin{array}{c}\n",
       "p_1 u_1 - p_2 u_1 u_2 \\\\\n",
       " - p_3 u_2 + p_4 u_1 u_2 \\\\\n",
       "\\end{array}\n",
       "\\right]\n",
       "\\end{equation}\n",
       " $$"
      ],
      "text/plain": [
       "2-element Vector{Num}:\n",
       " p[1]*u[1] - p[2]*u[1]*u[2]\n",
       " p[4]*u[1]*u[2] - p[3]*u[2]"
      ]
     },
     "metadata": {},
     "output_type": "display_data"
    }
   ],
   "source": [
    "using Symbolics\n",
    "\n",
    "function lotka_volterra!(du, u, p, t)\n",
    "  x, y = u\n",
    "  α, β, δ, γ = p\n",
    "  du[1] = dx = α*x - β*x*y\n",
    "  du[2] = dy = -δ*y + γ*x*y\n",
    "end\n",
    "\n",
    "@variables t du[1:2] u[1:2] p[1:4]\n",
    "du = collect(du)\n",
    "lotka_volterra!(du, u, p, t)\n",
    "du"
   ]
  },
  {
   "cell_type": "code",
   "execution_count": 5,
   "metadata": {},
   "outputs": [
    {
     "data": {
      "text/latex": [
       "$$ \\begin{equation}\n",
       "\\left[\n",
       "\\begin{array}{c}\n",
       "z + 6 z^{2} \\\\\n",
       "10 z \\\\\n",
       "5 x + 3 y + 2 z \\\\\n",
       "y^{2} + 4 x^{2} \\\\\n",
       "\\end{array}\n",
       "\\right]\n",
       "\\end{equation}\n",
       " $$"
      ],
      "text/plain": [
       "4-element Vector{Num}:\n",
       "   z + 6(z^2)\n",
       "          10z\n",
       " 5x + 3y + 2z\n",
       " y^2 + 4(x^2)"
      ]
     },
     "metadata": {},
     "output_type": "display_data"
    }
   ],
   "source": [
    "using Symbolics\n",
    "\n",
    "@variables x y z\n",
    " \n",
    "simplify.([z^2 + z + 5z^2  \n",
    "           2z + 4z + 4z \n",
    "           5x + 2y + y + 2z  \n",
    "           5x^2 - x^2 + y^2])"
   ]
  },
  {
   "attachments": {},
   "cell_type": "markdown",
   "metadata": {},
   "source": [
    "# SymPy\n",
    "\n"
   ]
  },
  {
   "attachments": {},
   "cell_type": "markdown",
   "metadata": {},
   "source": [
    "using Pkg\n",
    "Pkg.add(\"Conda\") #  if needed\n",
    "using Conda\n",
    "Conda.update()\n",
    "\n",
    "using Pkg\n",
    "Pkg.add(\"SymPy\")"
   ]
  },
  {
   "cell_type": "code",
   "execution_count": 6,
   "metadata": {},
   "outputs": [
    {
     "name": "stderr",
     "output_type": "stream",
     "text": [
      "WARNING: using SymPy.simplify in module Main conflicts with an existing identifier.\n",
      "WARNING: using SymPy.Differential in module Main conflicts with an existing identifier.\n"
     ]
    },
    {
     "data": {
      "text/latex": [
       "$0$"
      ],
      "text/plain": [
       "0"
      ]
     },
     "metadata": {},
     "output_type": "display_data"
    }
   ],
   "source": [
    "using SymPy\n",
    "x = symbols(\"x\")\t\t       \n",
    "y = sin(pi*x)\n",
    "y(1)  "
   ]
  },
  {
   "cell_type": "code",
   "execution_count": 7,
   "metadata": {},
   "outputs": [
    {
     "name": "stdout",
     "output_type": "stream",
     "text": [
      "0"
     ]
    }
   ],
   "source": [
    "using SymPy\n",
    "\n",
    "x= symbols(\"x\")\n",
    "y= sin(π*x)\n",
    "print(y(1))"
   ]
  },
  {
   "cell_type": "code",
   "execution_count": 8,
   "metadata": {},
   "outputs": [
    {
     "data": {
      "text/latex": [
       "$\\left\\{\\left( - y - 1, \\  y, \\  2\\right)\\right\\}$"
      ],
      "text/plain": [
       "{(-y - 1, y, 2)}"
      ]
     },
     "metadata": {},
     "output_type": "display_data"
    }
   ],
   "source": [
    "using SymPy\n",
    "\n",
    "x = symbols(\"x\")\n",
    "y = symbols(\"y\")\n",
    "z = symbols(\"z\")\n",
    "\n",
    "linsolve([x + y + z - 1, x + y + 2*z - 3 ], (x, y, z))"
   ]
  },
  {
   "cell_type": "code",
   "execution_count": 9,
   "metadata": {},
   "outputs": [
    {
     "data": {
      "text/latex": [
       "$\\emptyset$"
      ],
      "text/plain": [
       "EmptySet"
      ]
     },
     "metadata": {},
     "output_type": "display_data"
    }
   ],
   "source": [
    "using SymPy\n",
    "\n",
    "x = symbols(\"x\")\n",
    "y = symbols(\"y\")\n",
    "z = symbols(\"z\")\n",
    "\n",
    "res=nonlinsolve([x^2 + 1, y^2 + 1], [x, y])\n"
   ]
  },
  {
   "attachments": {},
   "cell_type": "markdown",
   "metadata": {},
   "source": [
    "# Latex"
   ]
  },
  {
   "cell_type": "code",
   "execution_count": 12,
   "metadata": {},
   "outputs": [
    {
     "name": "stdout",
     "output_type": "stream",
     "text": [
      "$\\frac{x}{\\left( y + x \\right)^{2}}$"
     ]
    }
   ],
   "source": [
    "using Latexify\n",
    "\n",
    "eq = :(x/(y+x)^2)\n",
    "\n",
    "print(latexify(eq))\n"
   ]
  },
  {
   "cell_type": "code",
   "execution_count": 1,
   "metadata": {},
   "outputs": [
    {
     "data": {
      "text/latex": [
       "\\begin{align}\n",
       "\\frac{\\mathrm{d} x\\left( t \\right)}{\\mathrm{d}t} =& \\frac{\\left( y\\left( t \\right) \\right)^{n} v}{k^{n} + \\left( y\\left( t \\right) \\right)^{n}} - x\\left( t \\right) \\\\\n",
       "\\frac{\\mathrm{d} y\\left( t \\right)}{\\mathrm{d}t} =& \\frac{x\\left( t \\right)}{k_{2} + x\\left( t \\right)} - y\\left( t \\right)\n",
       "\\end{align}\n"
      ],
      "text/plain": [
       "L\"\\begin{align}\n",
       "\\frac{\\mathrm{d} x\\left( t \\right)}{\\mathrm{d}t} =& \\frac{\\left( y\\left( t \\right) \\right)^{n} v}{k^{n} + \\left( y\\left( t \\right) \\right)^{n}} - x\\left( t \\right) \\\\\n",
       "\\frac{\\mathrm{d} y\\left( t \\right)}{\\mathrm{d}t} =& \\frac{x\\left( t \\right)}{k_{2} + x\\left( t \\right)} - y\\left( t \\right)\n",
       "\\end{align}\n",
       "\""
      ]
     },
     "metadata": {},
     "output_type": "display_data"
    }
   ],
   "source": [
    "using ParameterizedFunctions\n",
    "using Latexify\n",
    "\n",
    "f = @ode_def positiveFeedback begin\n",
    "    dx = v*y^n/(k^n+y^n) - x\n",
    "    dy = x/(k_2+x) - y\n",
    "end v n k k_2\n",
    "\n",
    "latexify(f)"
   ]
  }
 ],
 "metadata": {
  "kernelspec": {
   "display_name": "Julia 1.9.1",
   "language": "julia",
   "name": "julia-1.9"
  },
  "language_info": {
   "file_extension": ".jl",
   "mimetype": "application/julia",
   "name": "julia",
   "version": "1.9.1"
  },
  "orig_nbformat": 4
 },
 "nbformat": 4,
 "nbformat_minor": 2
}
